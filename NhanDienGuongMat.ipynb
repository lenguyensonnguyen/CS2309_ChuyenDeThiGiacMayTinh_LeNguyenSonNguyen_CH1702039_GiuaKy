{
  "cells": [
    {
      "cell_type": "markdown",
      "metadata": {
        "pycharm": {
          "metadata": false,
          "name": "#%% md\n"
        }
      },
      "source": "\u003ch3 style\u003d\"color: red;\"\u003e\n        * Môn học: Chuyên đề nghiên cứu về Thị giác máy tính (CS2309)\n\u003c/h3\u003e\n\u003ch3 style\u003d\"color: red;\"\u003e\n        * Giảng viên: TS. Lê Đình Duy\n\u003c/h3\u003e\n\u003ch3 style\u003d\"color: red;\"\u003e\n        * Học viên: Lê Nguyễn Sơn Nguyên\n\u003c/h3\u003e\n\u003ch3 style\u003d\"color: red;\"\u003e\n        * Mã số: CH1702039\n\u003c/h3\u003e\n\u003ch3 style\u003d\"color: red;\"\u003e\n        * Bài làm giữa kỳ: Triển khai bài toán nhận diện gương mặt (Face recognition) sử dụng mô hình CNNs\n\u003c/h3\u003e\n\n\u003ch2 style\u003d\"color:blue\"\u003e\nBƯỚC 1: Import các thư viện, đối tượng (sử dụng thư viện chính là Keras)\n\u003c/h2\u003e\n\u003cp\u003e\n    \u003cb\u003e\n    Nếu có báo lỗi phần này có nghĩa là thư viện hoặc gói phần mềm chưa được cài đặt\n    \u003c/b\u003e\n\u003c/p\u003e\n\u003cp\u003e\n    Sử dụng lệnh pip install ...\n\u003c/p\u003e"
    },
    {
      "cell_type": "code",
      "execution_count": 1,
      "metadata": {
        "pycharm": {
          "is_executing": false
        }
      },
      "outputs": [
        {
          "name": "stderr",
          "output_type": "stream",
          "text": [
            "Using TensorFlow backend.\n"
          ]
        }
      ],
      "source": [
        "from __future__ import absolute_import, division, print_function\n",
        "\n",
        "import os\n",
        "\n",
        "import cv2\n",
        "import keras.backend as K\n",
        "import matplotlib.pylab as plt\n",
        "import numpy as np\n",
        "import tensorflow as tf\n",
        "from keras.applications.vgg16 import VGG16\n",
        "from keras.layers import Input, Dense, Dropout, Flatten, Conv2D, BatchNormalization, Activation, MaxPooling2D\n",
        "from keras.models import Sequential, Model\n",
        "from mtcnn.mtcnn import MTCNN"
      ]
    },
    {
      "cell_type": "markdown",
      "metadata": {
        "pycharm": {
          "metadata": false
        }
      },
      "source": [
        "\u003ch2 style\u003d\"color:blue\"\u003e\n",
        "BƯỚC 2: Tạo ra một đối tượng để import dữ liệu hình dùng cho việc training\n",
        "\u003c/h2\u003e\n",
        "\u003cp\u003e\n",
        "    \n",
        "\u003c/p\u003e"
      ]
    },
    {
      "cell_type": "code",
      "execution_count": 2,
      "metadata": {
        "pycharm": {
          "metadata": false,
          "name": "#%%\n"
        }
      },
      "outputs": [
        {
          "data": {
            "text/plain": [
              "\u003ctensorflow.python.keras._impl.keras.preprocessing.image.ImageDataGenerator at 0xc19e9bc940\u003e"
            ]
          },
          "execution_count": 2,
          "metadata": {},
          "output_type": "execute_result"
        }
      ],
      "source": [
        "image_generator \u003d tf.keras.preprocessing.image.ImageDataGenerator(rescale\u003d1 / 255)\n",
        "image_generator"
      ]
    },
    {
      "cell_type": "markdown",
      "metadata": {
        "pycharm": {
          "metadata": false
        }
      },
      "source": "\u003ch2 style\u003d\"color:blue\"\u003e\n    BƯỚC 3: Nhập dữ liệu hình ảnh từ thư mục, ví dụ:\n    \n    /FaceDB\n        /user1/...\n        /user2/...        \n\u003c/h2\u003e   "
    },
    {
      "cell_type": "code",
      "execution_count": 3,
      "metadata": {
        "pycharm": {
          "metadata": false,
          "name": "#%%\n"
        }
      },
      "outputs": [
        {
          "name": "stdout",
          "output_type": "stream",
          "text": [
            "Found 37 images belonging to 16 classes.\n"
          ]
        },
        {
          "data": {
            "text/plain": [
              "\u003ctensorflow.python.keras._impl.keras.preprocessing.image.DirectoryIterator at 0xc19e9bccf8\u003e"
            ]
          },
          "execution_count": 3,
          "metadata": {},
          "output_type": "execute_result"
        }
      ],
      "source": [
        "current_patch \u003d os.getcwd()\n",
        "current_patch\n",
        "image_data \u003d image_generator.flow_from_directory(str(current_patch + \"/FaceDB\"))\n",
        "image_data"
      ]
    },
    {
      "cell_type": "code",
      "execution_count": 4,
      "metadata": {
        "pycharm": {
          "metadata": false,
          "name": "#%%\n"
        }
      },
      "outputs": [
        {
          "name": "stdout",
          "output_type": "stream",
          "text": [
            "Mot vai thong so ve hinh anh: \n",
            "Image batch shape:  (32, 256, 256, 3)\n",
            "Label batch shape:  (32, 16)\n"
          ]
        }
      ],
      "source": [
        "print(\"Mot vai thong so ve hinh anh: \")\n",
        "for image_batch, label_batch in image_data:\n",
        "    print(\"Image batch shape: \", image_batch.shape)\n",
        "    print(\"Label batch shape: \", label_batch.shape)\n",
        "    break"
      ]
    },
    {
      "cell_type": "markdown",
      "metadata": {
        "pycharm": {
          "metadata": false
        }
      },
      "source": [
        "\u003ch2 style\u003d\"color:blue\"\u003e\n",
        "    BƯỚC 4: Đếm số Label của dữ liệu\n",
        "\u003c/h2\u003e\n",
        "\u003cp\u003e\n",
        "    \u003cb\u003e\u003ci\u003e\n",
        "        Dùng để thiết lập số output đầu ra khi train cũng như khi predict\n",
        "    \u003c/i\u003e\u003c/b\u003e\n",
        "\u003c/p\u003e"
      ]
    },
    {
      "cell_type": "code",
      "execution_count": 5,
      "metadata": {
        "pycharm": {
          "metadata": false,
          "name": "#%%\n"
        }
      },
      "outputs": [
        {
          "data": {
            "text/plain": [
              "16"
            ]
          },
          "execution_count": 5,
          "metadata": {},
          "output_type": "execute_result"
        }
      ],
      "source": [
        "nb_classes \u003d image_data.num_classes\n",
        "nb_classes"
      ]
    },
    {
      "cell_type": "markdown",
      "metadata": {
        "pycharm": {
          "metadata": false
        }
      },
      "source": [
        "\u003ch2 style\u003d\"color:blue\"\u003e\n",
        "    BƯỚC 5: Tạo model kiểu Sequential\n",
        "\u003c/h2\u003e    "
      ]
    },
    {
      "cell_type": "code",
      "execution_count": 6,
      "metadata": {
        "pycharm": {
          "metadata": false,
          "name": "#%%\n"
        }
      },
      "outputs": [
        {
          "data": {
            "text/plain": [
              "\u003ckeras.engine.sequential.Sequential at 0xc19e9bc2e8\u003e"
            ]
          },
          "execution_count": 6,
          "metadata": {},
          "output_type": "execute_result"
        }
      ],
      "source": [
        "model \u003d Sequential()\n",
        "model"
      ]
    },
    {
      "cell_type": "markdown",
      "metadata": {
        "pycharm": {
          "metadata": false
        }
      },
      "source": [
        "\u003cp\u003e\n",
        "    \u003ch3 style\u003d\"color:blue\"\u003e\n",
        "        BƯỚC 6: Sau đó thêm vào các Convolutional Layer (tự định nghĩa bằng tay) \n",
        "        cho mạng Neural mới tạo ra.\n",
        "    \u003c/h3\u003e\n",
        "    \u003ch4\u003e\n",
        "        \u003col type\u003d\"1\"\u003e\n",
        "        \u003cP\u003e\n",
        "            \u003cli\u003e\n",
        "            \u003cp\u003e\n",
        "                Input layer là (256, 256, 3)\n",
        "                \u003c/p\u003e\n",
        "            \u003c/li\u003e\n",
        "            \u003c/P\u003e\n",
        "            \u003cP\u003e\n",
        "            \u003cli\u003e\n",
        "            \u003cp\u003e\n",
        "                Hàm activate là \u0027relu\u0027\n",
        "                \u003c/p\u003e\n",
        "            \u003c/li\u003e\n",
        "            \u003c/P\u003e\n",
        "            \u003cP\u003e\n",
        "            \u003cli\u003e\n",
        "                ...\n",
        "            \u003c/li\u003e\n",
        "            \u003c/P\u003e\n",
        "        \u003c/ol\u003e\n",
        "    \u003c/h4    \n",
        "\u003c/p\u003e\n",
        "\u003cp\u003e\n",
        "    \u003cimg src\u003d\"https://viblo.asia/uploads/3072c314-b562-4b33-816e-327d3cfe201b.png\" /\u003e\n",
        "    \u003ci style\u003d\"display: block; text-align: center; color: red\"\u003eHình minh họa mô hình CNNs\u003c/i\u003e\n",
        "\u003c/p\u003e\n",
        "\u003cp\u003e\n",
        "    \u003ci\u003e\n",
        "        * Lưu ý là số layer càng nhiều thì việc tiêu tốn tài nguyên càng nhiều\n",
        "    \u003c/i\u003e\n",
        "\u003c/p\u003e\n",
        "\u003cp\u003e\n",
        "    Tham khảo thêm thông tin khai báo tại đây:\n",
        "    \u003ca href\u003d\"https://keras.io/layers/convolutional/\"\u003e\n",
        "        https://keras.io/layers/convolutional/\n",
        "    \u003c/a\u003e\n",
        "\u003c/p\u003e"
      ]
    },
    {
      "cell_type": "code",
      "execution_count": 7,
      "metadata": {
        "pycharm": {
          "metadata": false,
          "name": "#%%\n"
        }
      },
      "outputs": [],
      "source": [
        "model.add(Conv2D(64, (3, 3), padding\u003d\u0027same\u0027, input_shape\u003d(256, 256, 3)))\n",
        "model.add(BatchNormalization())\n",
        "model.add(Activation(\u0027relu\u0027))\n",
        "model.add(MaxPooling2D(pool_size\u003d(2, 2)))\n",
        "model.add(Dropout(0.25))\n",
        "\n",
        "# 2nd Convolution layer\n",
        "model.add(Conv2D(128, (5, 5), padding\u003d\u0027same\u0027))\n",
        "model.add(BatchNormalization())\n",
        "model.add(Activation(\u0027relu\u0027))\n",
        "model.add(MaxPooling2D(pool_size\u003d(2, 2)))\n",
        "model.add(Dropout(0.25))\n",
        "\n",
        "# 3rd Convolution layer\n",
        "model.add(Conv2D(512, (3, 3), padding\u003d\u0027same\u0027))\n",
        "model.add(BatchNormalization())\n",
        "model.add(Activation(\u0027relu\u0027))\n",
        "model.add(MaxPooling2D(pool_size\u003d(2, 2)))\n",
        "model.add(Dropout(0.25))\n",
        "\n",
        "# 4th Convolution layer\n",
        "model.add(Conv2D(512, (3, 3), padding\u003d\u0027same\u0027))\n",
        "model.add(BatchNormalization())\n",
        "model.add(Activation(\u0027relu\u0027))\n",
        "model.add(MaxPooling2D(pool_size\u003d(2, 2)))\n",
        "model.add(Dropout(0.25))\n",
        "\n",
        "# Flattening\n",
        "model.add(Flatten())\n",
        "\n",
        "# Fully connected layer 1st layer\n",
        "model.add(Dense(256))\n",
        "model.add(BatchNormalization())\n",
        "model.add(Activation(\u0027relu\u0027))\n",
        "model.add(Dropout(0.25))\n",
        "\n",
        "# Fully connected layer 2nd layer\n",
        "model.add(Dense(512))\n",
        "model.add(BatchNormalization())\n",
        "model.add(Activation(\u0027relu\u0027))\n",
        "model.add(Dropout(0.25))\n",
        "\n",
        "model.add(Dense(nb_classes, activation\u003d\u0027softmax\u0027))"
      ]
    },
    {
      "cell_type": "markdown",
      "metadata": {
        "pycharm": {
          "metadata": false
        }
      },
      "source": [
        "\u003cH2 style\u003d\"color:blue\"\u003e\n",
        "    BƯỚC 7: Định nghĩa thêm về hàm optimize và hàm chi phí (loss)\n",
        "\u003c/H2\u003e\n",
        "\u003cp\u003e\n",
        "    Tham khảo thêm thông tin khai báo tại đây:\n",
        "    \u003ca href\u003d\"https://keras.io/optimizers/\"\u003e\n",
        "        https://keras.io/optimizers/\n",
        "    \u003c/a\u003e\n",
        "\u003c/p\u003e"
      ]
    },
    {
      "cell_type": "code",
      "execution_count": 8,
      "metadata": {
        "pycharm": {
          "metadata": false,
          "name": "#%%\n"
        }
      },
      "outputs": [],
      "source": [
        "model.compile(\n",
        "    optimizer\u003dtf.train.AdamOptimizer(learning_rate\u003d0.0001),\n",
        "    loss\u003d\u0027categorical_crossentropy\u0027,\n",
        "    metrics\u003d[\u0027accuracy\u0027])"
      ]
    },
    {
      "cell_type": "markdown",
      "metadata": {
        "pycharm": {
          "metadata": false
        }
      },
      "source": [
        "\u003cH3 style\u003d\"color:green\"\u003e\n",
        "    In ra các thông tin liên quan đến mạng neural vừa khai báo.\n",
        "\u003c/H3\u003e"
      ]
    },
    {
      "cell_type": "code",
      "execution_count": 9,
      "metadata": {
        "pycharm": {
          "metadata": false,
          "name": "#%%\n"
        }
      },
      "outputs": [
        {
          "name": "stdout",
          "output_type": "stream",
          "text": [
            "Ket qua thong so cua model\n",
            "_________________________________________________________________\n",
            "Layer (type)                 Output Shape              Param #   \n",
            "\u003d\u003d\u003d\u003d\u003d\u003d\u003d\u003d\u003d\u003d\u003d\u003d\u003d\u003d\u003d\u003d\u003d\u003d\u003d\u003d\u003d\u003d\u003d\u003d\u003d\u003d\u003d\u003d\u003d\u003d\u003d\u003d\u003d\u003d\u003d\u003d\u003d\u003d\u003d\u003d\u003d\u003d\u003d\u003d\u003d\u003d\u003d\u003d\u003d\u003d\u003d\u003d\u003d\u003d\u003d\u003d\u003d\u003d\u003d\u003d\u003d\u003d\u003d\u003d\u003d\n",
            "conv2d_1 (Conv2D)            (None, 256, 256, 64)      1792      \n",
            "_________________________________________________________________\n",
            "batch_normalization_1 (Batch (None, 256, 256, 64)      256       \n",
            "_________________________________________________________________\n",
            "activation_1 (Activation)    (None, 256, 256, 64)      0         \n",
            "_________________________________________________________________\n",
            "max_pooling2d_1 (MaxPooling2 (None, 128, 128, 64)      0         \n",
            "_________________________________________________________________\n",
            "dropout_1 (Dropout)          (None, 128, 128, 64)      0         \n",
            "_________________________________________________________________\n",
            "conv2d_2 (Conv2D)            (None, 128, 128, 128)     204928    \n",
            "_________________________________________________________________\n",
            "batch_normalization_2 (Batch (None, 128, 128, 128)     512       \n",
            "_________________________________________________________________\n",
            "activation_2 (Activation)    (None, 128, 128, 128)     0         \n",
            "_________________________________________________________________\n",
            "max_pooling2d_2 (MaxPooling2 (None, 64, 64, 128)       0         \n",
            "_________________________________________________________________\n",
            "dropout_2 (Dropout)          (None, 64, 64, 128)       0         \n",
            "_________________________________________________________________\n",
            "conv2d_3 (Conv2D)            (None, 64, 64, 512)       590336    \n",
            "_________________________________________________________________\n",
            "batch_normalization_3 (Batch (None, 64, 64, 512)       2048      \n",
            "_________________________________________________________________\n",
            "activation_3 (Activation)    (None, 64, 64, 512)       0         \n",
            "_________________________________________________________________\n",
            "max_pooling2d_3 (MaxPooling2 (None, 32, 32, 512)       0         \n",
            "_________________________________________________________________\n",
            "dropout_3 (Dropout)          (None, 32, 32, 512)       0         \n",
            "_________________________________________________________________\n",
            "conv2d_4 (Conv2D)            (None, 32, 32, 512)       2359808   \n",
            "_________________________________________________________________\n",
            "batch_normalization_4 (Batch (None, 32, 32, 512)       2048      \n",
            "_________________________________________________________________\n",
            "activation_4 (Activation)    (None, 32, 32, 512)       0         \n",
            "_________________________________________________________________\n",
            "max_pooling2d_4 (MaxPooling2 (None, 16, 16, 512)       0         \n",
            "_________________________________________________________________\n",
            "dropout_4 (Dropout)          (None, 16, 16, 512)       0         \n",
            "_________________________________________________________________\n",
            "flatten_1 (Flatten)          (None, 131072)            0         \n",
            "_________________________________________________________________\n",
            "dense_1 (Dense)              (None, 256)               33554688  \n",
            "_________________________________________________________________\n",
            "batch_normalization_5 (Batch (None, 256)               1024      \n",
            "_________________________________________________________________\n",
            "activation_5 (Activation)    (None, 256)               0         \n",
            "_________________________________________________________________\n",
            "dropout_5 (Dropout)          (None, 256)               0         \n",
            "_________________________________________________________________\n",
            "dense_2 (Dense)              (None, 512)               131584    \n",
            "_________________________________________________________________\n",
            "batch_normalization_6 (Batch (None, 512)               2048      \n",
            "_________________________________________________________________\n",
            "activation_6 (Activation)    (None, 512)               0         \n",
            "_________________________________________________________________\n",
            "dropout_6 (Dropout)          (None, 512)               0         \n",
            "_________________________________________________________________\n",
            "dense_3 (Dense)              (None, 16)                8208      \n",
            "\u003d\u003d\u003d\u003d\u003d\u003d\u003d\u003d\u003d\u003d\u003d\u003d\u003d\u003d\u003d\u003d\u003d\u003d\u003d\u003d\u003d\u003d\u003d\u003d\u003d\u003d\u003d\u003d\u003d\u003d\u003d\u003d\u003d\u003d\u003d\u003d\u003d\u003d\u003d\u003d\u003d\u003d\u003d\u003d\u003d\u003d\u003d\u003d\u003d\u003d\u003d\u003d\u003d\u003d\u003d\u003d\u003d\u003d\u003d\u003d\u003d\u003d\u003d\u003d\u003d\n",
            "Total params: 36,859,280\n",
            "Trainable params: 36,855,312\n",
            "Non-trainable params: 3,968\n",
            "_________________________________________________________________\n"
          ]
        }
      ],
      "source": [
        "print(\"Ket qua thong so cua model\")\n",
        "model.summary()"
      ]
    },
    {
      "cell_type": "markdown",
      "metadata": {
        "pycharm": {
          "metadata": false
        }
      },
      "source": [
        "\u003cH3\u003e\n",
        "    Khởi tạo môi trường chạy.\n",
        "\u003c/H3\u003e    "
      ]
    },
    {
      "cell_type": "code",
      "execution_count": 10,
      "metadata": {
        "pycharm": {
          "metadata": false,
          "name": "#%%\n"
        }
      },
      "outputs": [],
      "source": [
        "sess \u003d K.get_session()\n",
        "init \u003d tf.global_variables_initializer()\n",
        "init\n",
        "sess.run(init)"
      ]
    },
    {
      "cell_type": "markdown",
      "metadata": {
        "pycharm": {
          "metadata": false
        }
      },
      "source": [
        "\u003cH3\u003e    \n",
        "    Lấy các label name để gắn nhãn cho dữ liệu sau khi predict gương mặt xong.\n",
        "\u003c/H3\u003e    "
      ]
    },
    {
      "cell_type": "code",
      "execution_count": 11,
      "metadata": {
        "pycharm": {
          "metadata": false,
          "name": "#%%\n"
        }
      },
      "outputs": [
        {
          "name": "stdout",
          "output_type": "stream",
          "text": [
            "[\u0027Duyetlv\u0027 \u0027Duynn\u0027 \u0027Hantq\u0027 \u0027Hoaisd\u0027 \u0027Minhha\u0027 \u0027Mynh\u0027 \u0027Nhanth\u0027 \u0027Quanvm\u0027\n",
            " \u0027Taihpt\u0027 \u0027Tantd\u0027 \u0027Thaodnt\u0027 \u0027Truongtx\u0027 \u0027Tulg\u0027 \u0027Thuyltn\u0027 \u0027Vulq\u0027 \u0027Vund\u0027]\n",
            "N data:  37\n",
            "batch size:  32\n"
          ]
        }
      ],
      "source": [
        "label_names \u003d sorted(image_data.class_indices.items(), key\u003dlambda pair: pair[1])\n",
        "label_names \u003d np.array([key.title() for key, value in label_names])\n",
        "print(label_names)\n",
        "print(\"N data: \", image_data.n)\n",
        "print(\"batch size: \", image_data.batch_size)"
      ]
    },
    {
      "cell_type": "markdown",
      "metadata": {
        "pycharm": {
          "metadata": false
        }
      },
      "source": [
        "\u003cH2\u003e\n",
        "    BƯỚC 8: Bắt đầu train dữ liệu hình ảnh có được với model vừa định nghĩa ở trên\n",
        "\u003c/H2\u003e    \n",
        "\u003cP\u003e\n",
        "\u003cB\u003e \n",
        "    Lưu ý: ta chỉnh các thông số về epochs nhỏ để có thể train trên máy PC cá nhân, do CNN tiêu tốn rất nhiều tài nguyên khi train nên sẽ làm treo máy nếu config những thông số này lớn. Các chỉ số trong quá trình training: minimize hàm loss và tăng độ chính xác accuracy được thể hiện cụ thể bên dưới.\n",
        "\u003c/B\u003e    \n",
        "\u003c/P\u003e\n",
        "\u003cP\u003e    \n",
        "\u003ci\u003e\n",
        "    P/S: Do nguồn dữ liệu cũng ít và hạn chế nên dù có tăng các chỉ số epochs lên thì cũng không làm cải thiện kết quả đáng kể.\n",
        "\u003c/i\u003e    \n",
        "\u003c/P\u003e    \n",
        "    "
      ]
    },
    {
      "cell_type": "code",
      "execution_count": 12,
      "metadata": {
        "pycharm": {
          "metadata": false,
          "name": "#%%\n"
        }
      },
      "outputs": [
        {
          "name": "stdout",
          "output_type": "stream",
          "text": [
            "Epoch 1/10\n",
            "3/3 [\u003d\u003d\u003d\u003d\u003d\u003d\u003d\u003d\u003d\u003d\u003d\u003d\u003d\u003d\u003d\u003d\u003d\u003d\u003d\u003d\u003d\u003d\u003d\u003d\u003d\u003d\u003d\u003d\u003d\u003d] - 92s 31s/step - loss: 2.9211 - acc: 0.2092\n",
            "Epoch 2/10\n",
            "3/3 [\u003d\u003d\u003d\u003d\u003d\u003d\u003d\u003d\u003d\u003d\u003d\u003d\u003d\u003d\u003d\u003d\u003d\u003d\u003d\u003d\u003d\u003d\u003d\u003d\u003d\u003d\u003d\u003d\u003d\u003d] - 147s 49s/step - loss: 1.8708 - acc: 0.4546\n",
            "Epoch 3/10\n",
            "3/3 [\u003d\u003d\u003d\u003d\u003d\u003d\u003d\u003d\u003d\u003d\u003d\u003d\u003d\u003d\u003d\u003d\u003d\u003d\u003d\u003d\u003d\u003d\u003d\u003d\u003d\u003d\u003d\u003d\u003d\u003d] - 90s 30s/step - loss: 1.8710 - acc: 0.4303\n",
            "Epoch 4/10\n",
            "3/3 [\u003d\u003d\u003d\u003d\u003d\u003d\u003d\u003d\u003d\u003d\u003d\u003d\u003d\u003d\u003d\u003d\u003d\u003d\u003d\u003d\u003d\u003d\u003d\u003d\u003d\u003d\u003d\u003d\u003d\u003d] - 147s 49s/step - loss: 1.3650 - acc: 0.5954\n",
            "Epoch 5/10\n",
            "3/3 [\u003d\u003d\u003d\u003d\u003d\u003d\u003d\u003d\u003d\u003d\u003d\u003d\u003d\u003d\u003d\u003d\u003d\u003d\u003d\u003d\u003d\u003d\u003d\u003d\u003d\u003d\u003d\u003d\u003d\u003d] - 90s 30s/step - loss: 1.6704 - acc: 0.4844\n",
            "Epoch 6/10\n",
            "3/3 [\u003d\u003d\u003d\u003d\u003d\u003d\u003d\u003d\u003d\u003d\u003d\u003d\u003d\u003d\u003d\u003d\u003d\u003d\u003d\u003d\u003d\u003d\u003d\u003d\u003d\u003d\u003d\u003d\u003d\u003d] - 146s 49s/step - loss: 1.0337 - acc: 0.7670\n",
            "Epoch 7/10\n",
            "3/3 [\u003d\u003d\u003d\u003d\u003d\u003d\u003d\u003d\u003d\u003d\u003d\u003d\u003d\u003d\u003d\u003d\u003d\u003d\u003d\u003d\u003d\u003d\u003d\u003d\u003d\u003d\u003d\u003d\u003d\u003d] - 90s 30s/step - loss: 1.1234 - acc: 0.7074\n",
            "Epoch 8/10\n",
            "3/3 [\u003d\u003d\u003d\u003d\u003d\u003d\u003d\u003d\u003d\u003d\u003d\u003d\u003d\u003d\u003d\u003d\u003d\u003d\u003d\u003d\u003d\u003d\u003d\u003d\u003d\u003d\u003d\u003d\u003d\u003d] - 147s 49s/step - loss: 0.9096 - acc: 0.8241\n",
            "Epoch 9/10\n",
            "3/3 [\u003d\u003d\u003d\u003d\u003d\u003d\u003d\u003d\u003d\u003d\u003d\u003d\u003d\u003d\u003d\u003d\u003d\u003d\u003d\u003d\u003d\u003d\u003d\u003d\u003d\u003d\u003d\u003d\u003d\u003d] - 91s 30s/step - loss: 0.9876 - acc: 0.7074\n",
            "Epoch 10/10\n",
            "3/3 [\u003d\u003d\u003d\u003d\u003d\u003d\u003d\u003d\u003d\u003d\u003d\u003d\u003d\u003d\u003d\u003d\u003d\u003d\u003d\u003d\u003d\u003d\u003d\u003d\u003d\u003d\u003d\u003d\u003d\u003d] - 147s 49s/step - loss: 0.7775 - acc: 0.8663\n"
          ]
        },
        {
          "data": {
            "text/plain": [
              "\u003ckeras.callbacks.History at 0xc1a2c3be80\u003e"
            ]
          },
          "execution_count": 12,
          "metadata": {},
          "output_type": "execute_result"
        }
      ],
      "source": [
        "model.fit_generator(generator\u003dimage_data,\n",
        "                    steps_per_epoch\u003d3,\n",
        "                    epochs\u003d10\n",
        "                    )"
      ]
    },
    {
      "cell_type": "markdown",
      "metadata": {
        "pycharm": {
          "metadata": false
        }
      },
      "source": [
        "\u003cH2 style\u003d\"color:blue\"\u003e\n",
        "    BƯỚC 9: Sau khi đã train model thì dùng model đó để predict những gương mặt được phát hiện\n",
        "\u003c/H2\u003e    \n",
        "\u003cP\u003e\n",
        "    Việc sử dụng thư viện MTCNN có thể tham khảo tại đây:\n",
        "\u003c/P\u003e\n",
        "\u003cp\u003e\n",
        "    \u003ca href\u003d\"https://github.com/ipazc/mtcnn\"\u003e\n",
        "    https://github.com/ipazc/mtcnn\n",
        "    \u003c/a\u003e\n",
        "\u003c/p\u003e"
      ]
    },
    {
      "cell_type": "code",
      "execution_count": 13,
      "metadata": {
        "pycharm": {
          "metadata": false,
          "name": "#%%\n"
        }
      },
      "outputs": [
        {
          "name": "stdout",
          "output_type": "stream",
          "text": [
            "WARNING:tensorflow:From c:\\program files\\python36\\lib\\site-packages\\mtcnn\\layer_factory.py:211: calling reduce_max (from tensorflow.python.ops.math_ops) with keep_dims is deprecated and will be removed in a future version.\n",
            "Instructions for updating:\n",
            "keep_dims is deprecated, use keepdims instead\n",
            "WARNING:tensorflow:From c:\\program files\\python36\\lib\\site-packages\\mtcnn\\layer_factory.py:213: calling reduce_sum (from tensorflow.python.ops.math_ops) with keep_dims is deprecated and will be removed in a future version.\n",
            "Instructions for updating:\n",
            "keep_dims is deprecated, use keepdims instead\n",
            "[[1. 0. 0. 0. 0. 0. 0. 0. 0. 0. 0. 0. 0. 0. 0. 0.]] [\u0027Duyetlv\u0027]\n",
            "[[1. 0. 0. 0. 0. 0. 0. 0. 0. 0. 0. 0. 0. 0. 0. 0.]] [\u0027Duyetlv\u0027]\n",
            "[[1. 0. 0. 0. 0. 0. 0. 0. 0. 0. 0. 0. 0. 0. 0. 0.]] [\u0027Duyetlv\u0027]\n",
            "[[1. 0. 0. 0. 0. 0. 0. 0. 0. 0. 0. 0. 0. 0. 0. 0.]] [\u0027Duyetlv\u0027]\n",
            "[[1. 0. 0. 0. 0. 0. 0. 0. 0. 0. 0. 0. 0. 0. 0. 0.]] [\u0027Duyetlv\u0027]\n",
            "[[1. 0. 0. 0. 0. 0. 0. 0. 0. 0. 0. 0. 0. 0. 0. 0.]] [\u0027Duyetlv\u0027]\n",
            "[[1. 0. 0. 0. 0. 0. 0. 0. 0. 0. 0. 0. 0. 0. 0. 0.]] [\u0027Duyetlv\u0027]\n",
            "[[1. 0. 0. 0. 0. 0. 0. 0. 0. 0. 0. 0. 0. 0. 0. 0.]] [\u0027Duyetlv\u0027]\n",
            "[[1. 0. 0. 0. 0. 0. 0. 0. 0. 0. 0. 0. 0. 0. 0. 0.]] [\u0027Duyetlv\u0027]\n",
            "[[1. 0. 0. 0. 0. 0. 0. 0. 0. 0. 0. 0. 0. 0. 0. 0.]] [\u0027Duyetlv\u0027]\n",
            "[[1. 0. 0. 0. 0. 0. 0. 0. 0. 0. 0. 0. 0. 0. 0. 0.]] [\u0027Duyetlv\u0027]\n",
            "[[1. 0. 0. 0. 0. 0. 0. 0. 0. 0. 0. 0. 0. 0. 0. 0.]] [\u0027Duyetlv\u0027]\n",
            "[[1. 0. 0. 0. 0. 0. 0. 0. 0. 0. 0. 0. 0. 0. 0. 0.]] [\u0027Duyetlv\u0027]\n",
            "[[1. 0. 0. 0. 0. 0. 0. 0. 0. 0. 0. 0. 0. 0. 0. 0.]] [\u0027Duyetlv\u0027]\n",
            "[[1. 0. 0. 0. 0. 0. 0. 0. 0. 0. 0. 0. 0. 0. 0. 0.]] [\u0027Duyetlv\u0027]\n",
            "[[1. 0. 0. 0. 0. 0. 0. 0. 0. 0. 0. 0. 0. 0. 0. 0.]] [\u0027Duyetlv\u0027]\n",
            "[[1. 0. 0. 0. 0. 0. 0. 0. 0. 0. 0. 0. 0. 0. 0. 0.]] [\u0027Duyetlv\u0027]\n",
            "[[1. 0. 0. 0. 0. 0. 0. 0. 0. 0. 0. 0. 0. 0. 0. 0.]] [\u0027Duyetlv\u0027]\n",
            "[[1. 0. 0. 0. 0. 0. 0. 0. 0. 0. 0. 0. 0. 0. 0. 0.]] [\u0027Duyetlv\u0027]\n"
          ]
        },
        {
          "data": {
            "image/png": "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\u003d\u003d\n",
            "text/plain": [
              "\u003cFigure size 432x288 with 1 Axes\u003e"
            ]
          },
          "metadata": {},
          "output_type": "display_data"
        }
      ],
      "source": [
        "detector \u003d MTCNN()\n",
        "\n",
        "image_test \u003d cv2.imread(\"test.png\")\n",
        "image_test\n",
        "image_test_for_paint \u003d cv2.imread(\"test.png\")\n",
        "\n",
        "result_dec \u003d detector.detect_faces(image_test)\n",
        "result_dec\n",
        "\n",
        "for result in result_dec:\n",
        "    bounding_box \u003d result[\u0027box\u0027]\n",
        "    img_crop \u003d image_test[bounding_box[1]:bounding_box[1] + bounding_box[3],\n",
        "               bounding_box[0]:bounding_box[0] + bounding_box[2]]\n",
        "    \n",
        "    img_crop \u003d cv2.resize(img_crop, (256, 256))\n",
        "    \n",
        "    # sử dụng model để predict gương mặt\n",
        "    predict_face \u003d model.predict(img_crop[np.newaxis, ...])\n",
        "    predict_face\n",
        "    \n",
        "    label_predict \u003d label_names[np.argmax(predict_face, axis\u003d-1)]\n",
        "    print(predict_face, label_predict)\n",
        "\n",
        "    cv2.rectangle(image_test_for_paint, (bounding_box[0], bounding_box[1]),\n",
        "                  (bounding_box[0] + bounding_box[2], bounding_box[1] + bounding_box[3]),\n",
        "                  (255, 0, 0),\n",
        "                  17)\n",
        "    cv2.putText(image_test_for_paint,\n",
        "                label_predict[0],\n",
        "                (bounding_box[0], bounding_box[1]),\n",
        "                cv2.FONT_HERSHEY_SIMPLEX,\n",
        "                3,\n",
        "                (255, 0, 0),\n",
        "                10\n",
        "                )\n",
        "\n",
        "plt.imshow(image_test_for_paint)\n",
        "cv2.imwrite(\"test_draw_conv.jpg\", image_test_for_paint)\n",
        "plt.show()"
      ]
    },
    {
      "cell_type": "markdown",
      "metadata": {
        "pycharm": {
          "metadata": false
        }
      },
      "source": [
        "\u003ch2\u003e\n",
        "    \u003cp style\u003d\"color:red\"\u003e\n",
        "        NHẬN XÉT KẾT QUẢ (* đếm kết quả thủ công)\n",
        "    \u003c/p\u003e\n",
        "    \u003cOL TYPE\u003d\"1\"\u003e\n",
        "        \u003cP\u003e\n",
        "        \u003cLI\u003e\n",
        "            \u003cP\u003e\n",
        "                Ta thấy kết quả nhận diện thấp, chỉ khoảng 1 đến 2 gương mặt trong số tổng các gương mặt hiện có trong hình test.\n",
        "            \u003c/P\u003e\n",
        "        \u003c/LI\u003e\n",
        "        \u003c/P\u003e\n",
        "        \u003cP\u003e\n",
        "        \u003cLI\u003e\n",
        "            \u003cP\u003e\n",
        "                Do dữ liệu dùng để train ít (đây cũng là điểm hạn chế của mô hình CNN), mỗi người chỉ có từ 2-3 ảnh gương mặt.\n",
        "            \u003c/P\u003e\n",
        "        \u003c/LI\u003e\n",
        "        \u003c/P\u003e\n",
        "        \u003cP\u003e\n",
        "        \u003cLI\u003e\n",
        "            \u003cP\u003e\n",
        "                Chất lượng ảnh kém và không đồng đều, có to có nhỏ, các góc mặt không trực diện.\n",
        "            \u003c/P\u003e\n",
        "        \u003c/LI\u003e\n",
        "        \u003c/P\u003e\n",
        "        \u003cP\u003e\n",
        "        \u003cli\u003e\n",
        "            ...\n",
        "        \u003c/li\u003e\n",
        "        \u003c/P\u003e\n",
        "    \u003c/OL\u003e        \n",
        "    \u003cp\u003e\n",
        "        ĐỀ XUẤT\n",
        "    \u003c/p\u003e\n",
        "    \u003cOL TYPE\u003d\"1\"\u003e\n",
        "        \u003cP\u003e\n",
        "        \u003cLI\u003e \u003ci\u003e           \n",
        "                TĂNG CƯỜNG BỘ DỮ LIỆU.   \u003c/i\u003e         \n",
        "        \u003c/LI\u003e \n",
        "        \u003c/P\u003e  \n",
        "        \u003cP\u003e     \n",
        "        \u003cLI\u003e            \n",
        "                \u003ci\u003eTĂNG CƯỜNG CHẤT LƯỢNG ẢNH VÀ GÓC CHỤP ẢNH TRỰC DIỆN.    \u003c/i\u003e        \n",
        "        \u003c/LI\u003e\n",
        "        \u003c/P\u003e\n",
        "        \u003cP\u003e\n",
        "        \u003cLI\u003e            \n",
        "                \u003cI\u003eTĂNG CƯỜNG PHẦN CỨNG HỆ THỐNG.\u003c/I\u003e           \n",
        "        \u003c/LI\u003e\n",
        "         \u003c/P\u003e\n",
        "         \u003cp\u003e\n",
        "        \u003cli\u003e\n",
        "            ...\n",
        "        \u003c/li\u003e\n",
        "        \u003c/p\u003e\n",
        "    \u003c/OL\u003e\n",
        "\u003ch2\u003e   "
      ]
    },
    {
      "cell_type": "markdown",
      "metadata": {
        "pycharm": {
          "metadata": false
        }
      },
      "source": [
        "\u003cH3 style\u003d\"color:green\"\u003e\n",
        "    Hoặc ta có thể dùng các Model có sẵn của Keras (cụ thể là model VGG16), config lại\n",
        "    và train trên bộ dữ liệu của ta.\n",
        "\u003c/H3\u003e\n",
        "\u003cp\u003e\n",
        "    \u003cimg src\u003d\"https://neurohive.io/wp-content/uploads/2018/11/vgg16-1-e1542731207177.png\" /\u003e\n",
        "    \u003ci style\u003d\"display: block; text-align: center; color: red\"\u003eHình minh họa mô hình VGG16\u003c/i\u003e\n",
        "\u003c/p\u003e\n",
        "\u003cp\u003e\n",
        "    Tham khảo thêm tại: \u003ca href\u003d\"https://keras.io/applications/#vgg16\"\u003ehttps://keras.io/applications/#vgg16\u003c/a\u003e\n",
        "\u003c/p  "
      ]
    },
    {
      "cell_type": "code",
      "execution_count": 14,
      "metadata": {
        "pycharm": {
          "metadata": false,
          "name": "#%%\n"
        }
      },
      "outputs": [
        {
          "name": "stdout",
          "output_type": "stream",
          "text": [
            "_________________________________________________________________\n",
            "Layer (type)                 Output Shape              Param #   \n",
            "\u003d\u003d\u003d\u003d\u003d\u003d\u003d\u003d\u003d\u003d\u003d\u003d\u003d\u003d\u003d\u003d\u003d\u003d\u003d\u003d\u003d\u003d\u003d\u003d\u003d\u003d\u003d\u003d\u003d\u003d\u003d\u003d\u003d\u003d\u003d\u003d\u003d\u003d\u003d\u003d\u003d\u003d\u003d\u003d\u003d\u003d\u003d\u003d\u003d\u003d\u003d\u003d\u003d\u003d\u003d\u003d\u003d\u003d\u003d\u003d\u003d\u003d\u003d\u003d\u003d\n",
            "input_1 (InputLayer)         (None, None, None, 3)     0         \n",
            "_________________________________________________________________\n",
            "block1_conv1 (Conv2D)        (None, None, None, 64)    1792      \n",
            "_________________________________________________________________\n",
            "block1_conv2 (Conv2D)        (None, None, None, 64)    36928     \n",
            "_________________________________________________________________\n",
            "block1_pool (MaxPooling2D)   (None, None, None, 64)    0         \n",
            "_________________________________________________________________\n",
            "block2_conv1 (Conv2D)        (None, None, None, 128)   73856     \n",
            "_________________________________________________________________\n",
            "block2_conv2 (Conv2D)        (None, None, None, 128)   147584    \n",
            "_________________________________________________________________\n",
            "block2_pool (MaxPooling2D)   (None, None, None, 128)   0         \n",
            "_________________________________________________________________\n",
            "block3_conv1 (Conv2D)        (None, None, None, 256)   295168    \n",
            "_________________________________________________________________\n",
            "block3_conv2 (Conv2D)        (None, None, None, 256)   590080    \n",
            "_________________________________________________________________\n",
            "block3_conv3 (Conv2D)        (None, None, None, 256)   590080    \n",
            "_________________________________________________________________\n",
            "block3_pool (MaxPooling2D)   (None, None, None, 256)   0         \n",
            "_________________________________________________________________\n",
            "block4_conv1 (Conv2D)        (None, None, None, 512)   1180160   \n",
            "_________________________________________________________________\n",
            "block4_conv2 (Conv2D)        (None, None, None, 512)   2359808   \n",
            "_________________________________________________________________\n",
            "block4_conv3 (Conv2D)        (None, None, None, 512)   2359808   \n",
            "_________________________________________________________________\n",
            "block4_pool (MaxPooling2D)   (None, None, None, 512)   0         \n",
            "_________________________________________________________________\n",
            "block5_conv1 (Conv2D)        (None, None, None, 512)   2359808   \n",
            "_________________________________________________________________\n",
            "block5_conv2 (Conv2D)        (None, None, None, 512)   2359808   \n",
            "_________________________________________________________________\n",
            "block5_conv3 (Conv2D)        (None, None, None, 512)   2359808   \n",
            "_________________________________________________________________\n",
            "block5_pool (MaxPooling2D)   (None, None, None, 512)   0         \n",
            "\u003d\u003d\u003d\u003d\u003d\u003d\u003d\u003d\u003d\u003d\u003d\u003d\u003d\u003d\u003d\u003d\u003d\u003d\u003d\u003d\u003d\u003d\u003d\u003d\u003d\u003d\u003d\u003d\u003d\u003d\u003d\u003d\u003d\u003d\u003d\u003d\u003d\u003d\u003d\u003d\u003d\u003d\u003d\u003d\u003d\u003d\u003d\u003d\u003d\u003d\u003d\u003d\u003d\u003d\u003d\u003d\u003d\u003d\u003d\u003d\u003d\u003d\u003d\u003d\u003d\n",
            "Total params: 14,714,688\n",
            "Trainable params: 14,714,688\n",
            "Non-trainable params: 0\n",
            "_________________________________________________________________\n"
          ]
        }
      ],
      "source": [
        "model_vgg16_conv \u003d VGG16(weights\u003d\u0027imagenet\u0027, include_top\u003dFalse)\n",
        "model_vgg16_conv.summary()"
      ]
    },
    {
      "cell_type": "markdown",
      "metadata": {
        "pycharm": {
          "metadata": false
        }
      },
      "source": [
        "\u003cH3 style\u003d\"color:green\"\u003e\n",
        "    Tự định nghĩa lớp Input đầu vào\n",
        "\u003c/H3\u003e    "
      ]
    },
    {
      "cell_type": "code",
      "execution_count": 15,
      "metadata": {
        "pycharm": {
          "metadata": false,
          "name": "#%%\n"
        }
      },
      "outputs": [
        {
          "data": {
            "text/plain": [
              "\u003ctf.Tensor \u0027image_input:0\u0027 shape\u003d(?, 256, 256, 3) dtype\u003dfloat32\u003e"
            ]
          },
          "execution_count": 15,
          "metadata": {},
          "output_type": "execute_result"
        }
      ],
      "source": [
        "input_layer \u003d Input(shape\u003d(256, 256, 3), name\u003d\u0027image_input\u0027)\n",
        "input_layer"
      ]
    },
    {
      "cell_type": "markdown",
      "metadata": {
        "pycharm": {
          "metadata": false
        }
      },
      "source": [
        "\u003cH3 style\u003d\"color:green\"\u003e\n",
        "    Gắn layer Input vào Model VGG16 đã tạo ở trên\n",
        "\u003c/H3\u003e"
      ]
    },
    {
      "cell_type": "code",
      "execution_count": 16,
      "metadata": {
        "pycharm": {
          "metadata": false,
          "name": "#%%\n"
        }
      },
      "outputs": [
        {
          "data": {
            "text/plain": [
              "\u003ctf.Tensor \u0027vgg16/block5_pool/MaxPool:0\u0027 shape\u003d(?, 8, 8, 512) dtype\u003dfloat32\u003e"
            ]
          },
          "execution_count": 16,
          "metadata": {},
          "output_type": "execute_result"
        }
      ],
      "source": [
        "output_vgg16_conv \u003d model_vgg16_conv(input_layer)\n",
        "output_vgg16_conv"
      ]
    },
    {
      "cell_type": "markdown",
      "metadata": {
        "pycharm": {
          "metadata": false
        }
      },
      "source": [
        "\u003cH3 style\u003d\"color:green\"\u003e\n",
        "    Tạo output layer\n",
        "\u003c/H3\u003e    "
      ]
    },
    {
      "cell_type": "code",
      "execution_count": 17,
      "metadata": {
        "pycharm": {
          "metadata": false,
          "name": "#%%\n"
        }
      },
      "outputs": [
        {
          "data": {
            "text/plain": [
              "\u003ctf.Tensor \u0027predictions/Softmax:0\u0027 shape\u003d(?, 16) dtype\u003dfloat32\u003e"
            ]
          },
          "execution_count": 17,
          "metadata": {},
          "output_type": "execute_result"
        }
      ],
      "source": [
        "out_layer \u003d Flatten(name\u003d\u0027flatten\u0027)(output_vgg16_conv)\n",
        "out_layer \u003d Dense(4096, activation\u003d\u0027relu\u0027, name\u003d\u0027fc1\u0027)(out_layer)\n",
        "out_layer \u003d Dense(4096, activation\u003d\u0027relu\u0027, name\u003d\u0027fc2\u0027)(out_layer)\n",
        "out_layer \u003d Dense(nb_classes, activation\u003d\u0027softmax\u0027, name\u003d\u0027predictions\u0027)(out_layer)\n",
        "out_layer"
      ]
    },
    {
      "cell_type": "markdown",
      "metadata": {
        "pycharm": {
          "metadata": false
        }
      },
      "source": [
        "\u003cH3 style\u003d\"color:green\"\u003e\n",
        "    Hoàn thiện model\n",
        "\u003c/H3\u003e    "
      ]
    },
    {
      "cell_type": "code",
      "execution_count": 18,
      "metadata": {
        "pycharm": {
          "metadata": false,
          "name": "#%%\n"
        }
      },
      "outputs": [
        {
          "name": "stdout",
          "output_type": "stream",
          "text": [
            "_________________________________________________________________\n",
            "Layer (type)                 Output Shape              Param #   \n",
            "\u003d\u003d\u003d\u003d\u003d\u003d\u003d\u003d\u003d\u003d\u003d\u003d\u003d\u003d\u003d\u003d\u003d\u003d\u003d\u003d\u003d\u003d\u003d\u003d\u003d\u003d\u003d\u003d\u003d\u003d\u003d\u003d\u003d\u003d\u003d\u003d\u003d\u003d\u003d\u003d\u003d\u003d\u003d\u003d\u003d\u003d\u003d\u003d\u003d\u003d\u003d\u003d\u003d\u003d\u003d\u003d\u003d\u003d\u003d\u003d\u003d\u003d\u003d\u003d\u003d\n",
            "image_input (InputLayer)     (None, 256, 256, 3)       0         \n",
            "_________________________________________________________________\n",
            "vgg16 (Model)                multiple                  14714688  \n",
            "_________________________________________________________________\n",
            "flatten (Flatten)            (None, 32768)             0         \n",
            "_________________________________________________________________\n",
            "fc1 (Dense)                  (None, 4096)              134221824 \n",
            "_________________________________________________________________\n",
            "fc2 (Dense)                  (None, 4096)              16781312  \n",
            "_________________________________________________________________\n",
            "predictions (Dense)          (None, 16)                65552     \n",
            "\u003d\u003d\u003d\u003d\u003d\u003d\u003d\u003d\u003d\u003d\u003d\u003d\u003d\u003d\u003d\u003d\u003d\u003d\u003d\u003d\u003d\u003d\u003d\u003d\u003d\u003d\u003d\u003d\u003d\u003d\u003d\u003d\u003d\u003d\u003d\u003d\u003d\u003d\u003d\u003d\u003d\u003d\u003d\u003d\u003d\u003d\u003d\u003d\u003d\u003d\u003d\u003d\u003d\u003d\u003d\u003d\u003d\u003d\u003d\u003d\u003d\u003d\u003d\u003d\u003d\n",
            "Total params: 165,783,376\n",
            "Trainable params: 165,783,376\n",
            "Non-trainable params: 0\n",
            "_________________________________________________________________\n"
          ]
        },
        {
          "name": "stderr",
          "output_type": "stream",
          "text": [
            "C:\\Users\\baole\\AppData\\Roaming\\Python\\Python36\\site-packages\\ipykernel_launcher.py:1: UserWarning: Update your `Model` call to the Keras 2 API: `Model(inputs\u003dTensor(\"im..., outputs\u003dTensor(\"pr...)`\n",
            "  \"\"\"Entry point for launching an IPython kernel.\n"
          ]
        }
      ],
      "source": [
        "my_custom_model \u003d Model(input\u003dinput_layer, output\u003dout_layer)\n",
        "my_custom_model.summary()"
      ]
    },
    {
      "cell_type": "markdown",
      "metadata": {
        "pycharm": {
          "metadata": false
        }
      },
      "source": [
        "\u003cH3 style\u003d\"color:green\"\u003e\n",
        "    THIẾT LẬP COMPILE VÀ \n",
        "    Bắt đầu train dữ liệu trên model mới.\n",
        "\u003c/H3\u003e"
      ]
    },
    {
      "cell_type": "code",
      "execution_count": null,
      "metadata": {
        "pycharm": {
          "metadata": false,
          "name": "#%%\n"
        }
      },
      "outputs": [
        {
          "name": "stdout",
          "output_type": "stream",
          "text": [
            "Epoch 1/5\n"
          ]
        }
      ],
      "source": [
        "my_custom_model.compile(\n",
        "    optimizer\u003dtf.train.AdamOptimizer(learning_rate\u003d0.0001),\n",
        "    loss\u003d\u0027categorical_crossentropy\u0027,\n",
        "    metrics\u003d[\u0027accuracy\u0027])\n",
        "\n",
        "my_custom_model.fit_generator(\n",
        "    generator\u003dimage_data,\n",
        "    steps_per_epoch\u003d1,\n",
        "    epochs\u003d5\n",
        ")"
      ]
    },
    {
      "cell_type": "markdown",
      "metadata": {
        "pycharm": {
          "metadata": false
        }
      },
      "source": [
        "\u003cH3\u003e\n",
        "    \u003cp style\u003d\"color:red\"\u003eLƯU Ý:\u003c/p\u003e\n",
        "    \u003cP\u003e\n",
        "        \u003cI\u003e\n",
        "            * Do cấu hình phần cứng của máy không không cho phép nên quá trình train không thể chạy được.\n",
        "        \u003c/I\u003e\n",
        "    \u003c/P\u003e\n",
        "    \u003cP\u003e\n",
        "        \u003cI\u003e\n",
        "            * Nếu sau khi đã training xong model thì có thể xử dụng để predict face như bình thường (phần trình bày ở trên).\n",
        "        \u003c/I\u003e\n",
        "    \u003c/P\u003e\n",
        "\u003c/H3\u003e\n"
      ]
    }
  ],
  "metadata": {
    "kernelspec": {
      "display_name": "Python 3",
      "language": "python",
      "name": "python3"
    },
    "language_info": {
      "codemirror_mode": {
        "name": "ipython",
        "version": 3
      },
      "file_extension": ".py",
      "mimetype": "text/x-python",
      "name": "python",
      "nbconvert_exporter": "python",
      "pygments_lexer": "ipython3",
      "version": "3.6.6"
    },
    "stem_cell": {
      "cell_type": "raw",
      "metadata": {
        "pycharm": {
          "metadata": false
        }
      },
      "source": ""
    }
  },
  "nbformat": 4,
  "nbformat_minor": 1
}